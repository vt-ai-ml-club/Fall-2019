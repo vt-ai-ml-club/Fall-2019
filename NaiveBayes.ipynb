{
  "nbformat": 4,
  "nbformat_minor": 0,
  "metadata": {
    "kernelspec": {
      "display_name": "Python 3",
      "language": "python",
      "name": "python3"
    },
    "language_info": {
      "codemirror_mode": {
        "name": "ipython",
        "version": 3
      },
      "file_extension": ".py",
      "mimetype": "text/x-python",
      "name": "python",
      "nbconvert_exporter": "python",
      "pygments_lexer": "ipython3",
      "version": "3.7.4"
    },
    "colab": {
      "name": "NaiveBayes.ipynb",
      "provenance": [],
      "include_colab_link": true
    }
  },
  "cells": [
    {
      "cell_type": "markdown",
      "metadata": {
        "id": "view-in-github",
        "colab_type": "text"
      },
      "source": [
        "<a href=\"https://colab.research.google.com/github/vt-ai-ml/fall2019-meetings/blob/master/NaiveBayes.ipynb\" target=\"_parent\"><img src=\"https://colab.research.google.com/assets/colab-badge.svg\" alt=\"Open In Colab\"/></a>"
      ]
    },
    {
      "cell_type": "code",
      "metadata": {
        "id": "LytMiZYX832Y",
        "colab_type": "code",
        "colab": {}
      },
      "source": [
        "# importing: pandas, vectorizer, and naive bayes classifier\n",
        "import pandas as pd\n",
        "from sklearn.feature_extraction.text import TfidfVectorizer\n",
        "from sklearn.naive_bayes import MultinomialNB"
      ],
      "execution_count": 0,
      "outputs": []
    },
    {
      "cell_type": "code",
      "metadata": {
        "id": "ftz0SUrE832a",
        "colab_type": "code",
        "colab": {}
      },
      "source": [
        "# read in the data\n",
        "url = 'https://raw.githubusercontent.com/vt-ai-ml/fall2019-meetings/master/data/movie-pang02.csv'\n",
        "data = pd.read_csv(url)\n",
        "data"
      ],
      "execution_count": 0,
      "outputs": []
    },
    {
      "cell_type": "code",
      "metadata": {
        "id": "DNOE_i0s832c",
        "colab_type": "code",
        "colab": {}
      },
      "source": [
        "# create the vector space model\n",
        "vec = TfidfVectorizer(stop_words='english')"
      ],
      "execution_count": 0,
      "outputs": []
    },
    {
      "cell_type": "code",
      "metadata": {
        "id": "AkpfNoF3832e",
        "colab_type": "code",
        "colab": {}
      },
      "source": [
        "# 'transform' the words into vectors\n",
        "x = vec.fit_transform(data['text'])\n",
        "y = data['class']"
      ],
      "execution_count": 0,
      "outputs": []
    },
    {
      "cell_type": "code",
      "metadata": {
        "id": "1vT6mTc-832g",
        "colab_type": "code",
        "colab": {}
      },
      "source": [
        "# create the naive bayes classifier\n",
        "clf = MultinomialNB().fit(x, y)"
      ],
      "execution_count": 0,
      "outputs": []
    },
    {
      "cell_type": "code",
      "metadata": {
        "id": "GNX52fr_832h",
        "colab_type": "code",
        "colab": {}
      },
      "source": [
        "# let's try to predict some sentences:\n",
        "predict = ['this movie is great', 'this movie sucks']\n",
        "predict_vec = vec.transform(predict) # transform our prediction into a vector\n",
        "res = clf.predict(predict_vec)"
      ],
      "execution_count": 0,
      "outputs": []
    },
    {
      "cell_type": "code",
      "metadata": {
        "id": "MOIGF5FG832j",
        "colab_type": "code",
        "colab": {}
      },
      "source": [
        "# print out predictions\n",
        "for k, v in zip(predict, res):\n",
        "    print(k, '=>', v)"
      ],
      "execution_count": 0,
      "outputs": []
    },
    {
      "cell_type": "code",
      "metadata": {
        "id": "fDMi6z7D832l",
        "colab_type": "code",
        "colab": {}
      },
      "source": [
        "# read predictions from input\n",
        "while True:\n",
        "    predict = [input()]\n",
        "    predict_vec = vec.transform(predict)\n",
        "    res = clf.predict(predict_vec)\n",
        "    print(predict[0], '=>', res[0])"
      ],
      "execution_count": 0,
      "outputs": []
    }
  ]
}