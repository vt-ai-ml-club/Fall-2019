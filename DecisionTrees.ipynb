{
  "nbformat": 4,
  "nbformat_minor": 0,
  "metadata": {
    "colab": {
      "name": "DecisionTrees.ipynb",
      "provenance": [],
      "include_colab_link": true
    },
    "kernelspec": {
      "name": "python3",
      "display_name": "Python 3"
    }
  },
  "cells": [
    {
      "cell_type": "markdown",
      "metadata": {
        "id": "view-in-github",
        "colab_type": "text"
      },
      "source": [
        "<a href=\"https://colab.research.google.com/github/vt-ai-ml/fall2019-meetings/blob/master/DecisionTrees.ipynb\" target=\"_parent\"><img src=\"https://colab.research.google.com/assets/colab-badge.svg\" alt=\"Open In Colab\"/></a>"
      ]
    },
    {
      "cell_type": "code",
      "metadata": {
        "id": "Ipg3CBSKyEId",
        "colab_type": "code",
        "colab": {}
      },
      "source": [
        "from sklearn import tree # the decision tree code\n",
        "import numpy as np\n",
        "import pandas"
      ],
      "execution_count": 0,
      "outputs": []
    },
    {
      "cell_type": "code",
      "metadata": {
        "id": "KJAFB33L3lGe",
        "colab_type": "code",
        "colab": {}
      },
      "source": [
        "so_data = pandas.read_csv('https://github.com/vt-ai-ml/fall2019-meetings/raw/master/data/survey_results_public.zip') # read the stackoverflow data"
      ],
      "execution_count": 0,
      "outputs": []
    },
    {
      "cell_type": "code",
      "metadata": {
        "id": "-LIL8bJb3rNa",
        "colab_type": "code",
        "colab": {}
      },
      "source": [
        "# filter out so we only have specific data\n",
        "so_data = so_data[(so_data['MainBranch'] == 'I am a developer by profession') \n",
        "                & (so_data['Employment'] == 'Employed full-time')\n",
        "                & (so_data['EdLevel'] == 'Bachelor’s degree (BA, BS, B.Eng., etc.)')\n",
        "                & (so_data['Country'] == 'United States')\n",
        "                & (so_data['OrgSize'] == '10,000 or more employees')\n",
        "                & (so_data['WorkLoc'] == 'Home')\n",
        "                & (so_data['CompFreq'] == 'Yearly')\n",
        "                & (so_data['YearsCodePro'] != 'Less than 1 year')\n",
        "                ]\n",
        "\n",
        "# only want to compare these fields\n",
        "so_data = so_data[['YearsCode', 'YearsCodePro', 'Age', 'WorkWeekHrs', 'CompTotal']]\n",
        "\n",
        "# remove all incomplete rows\n",
        "so_data = so_data.dropna()"
      ],
      "execution_count": 0,
      "outputs": []
    },
    {
      "cell_type": "code",
      "metadata": {
        "id": "DD5oLCvt7mzg",
        "colab_type": "code",
        "colab": {}
      },
      "source": [
        "# print all the data"
      ],
      "execution_count": 0,
      "outputs": []
    },
    {
      "cell_type": "code",
      "metadata": {
        "id": "Z9k1rxZ0ABCy",
        "colab_type": "code",
        "colab": {}
      },
      "source": [
        "# what columns are the the features (inputs) and labels (outputs)\n",
        "feature_fields = []\n",
        "label_field = []\n",
        "\n",
        "# extract the  features and labels from the data\n",
        "features = so_data[feature_fields].to_numpy()\n",
        "labels = so_data[label_field].to_numpy().astype(int)"
      ],
      "execution_count": 0,
      "outputs": []
    },
    {
      "cell_type": "code",
      "metadata": {
        "id": "j5hSvbMxB_wR",
        "colab_type": "code",
        "colab": {}
      },
      "source": [
        "# build the classifier"
      ],
      "execution_count": 0,
      "outputs": []
    },
    {
      "cell_type": "code",
      "metadata": {
        "id": "lo67HIMNCLNG",
        "colab_type": "code",
        "colab": {}
      },
      "source": [
        "# print the decision tree\n",
        "import graphviz\n",
        "tree_viz = tree.export_graphviz(clf, out_file=None,\n",
        "               feature_names=feature_fields,\n",
        "               class_names=clf.classes_.astype(str),\n",
        "               filled=True, rounded=True,\n",
        "               special_characters=True)\n",
        "display(graphviz.Source(tree_viz))"
      ],
      "execution_count": 0,
      "outputs": []
    },
    {
      "cell_type": "code",
      "metadata": {
        "id": "u4XccSxZJHEJ",
        "colab_type": "code",
        "colab": {}
      },
      "source": [
        "# predict a random person\n",
        "features = [[]]"
      ],
      "execution_count": 0,
      "outputs": []
    }
  ]
}