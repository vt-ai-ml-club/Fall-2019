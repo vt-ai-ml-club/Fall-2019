{
  "nbformat": 4,
  "nbformat_minor": 0,
  "metadata": {
    "kernelspec": {
      "display_name": "Python 3",
      "language": "python",
      "name": "python3"
    },
    "language_info": {
      "codemirror_mode": {
        "name": "ipython",
        "version": 3
      },
      "file_extension": ".py",
      "mimetype": "text/x-python",
      "name": "python",
      "nbconvert_exporter": "python",
      "pygments_lexer": "ipython3",
      "version": "3.7.3"
    },
    "colab": {
      "name": "Ensemble.ipynb",
      "provenance": [],
      "include_colab_link": true
    }
  },
  "cells": [
    {
      "cell_type": "markdown",
      "metadata": {
        "id": "view-in-github",
        "colab_type": "text"
      },
      "source": [
        "<a href=\"https://colab.research.google.com/github/vt-ai-ml/fall2019-meetings/blob/master/Ensemble.ipynb\" target=\"_parent\"><img src=\"https://colab.research.google.com/assets/colab-badge.svg\" alt=\"Open In Colab\"/></a>"
      ]
    },
    {
      "cell_type": "code",
      "metadata": {
        "id": "fXsUeDRPXwxq",
        "colab_type": "code",
        "colab": {}
      },
      "source": [
        "import pandas as pd                 # data frame\n",
        "import numpy as np                  # matrix manipulation"
      ],
      "execution_count": 0,
      "outputs": []
    },
    {
      "cell_type": "markdown",
      "metadata": {
        "id": "_7WW4_UeXwxu",
        "colab_type": "text"
      },
      "source": [
        "### Ensemble Methods Tutorial\n",
        "reference: https://www.datacamp.com/community/tutorials/ensemble-learning-python\n",
        "\n",
        "We will be classifying whther a cell is a cancer cell or not. \n",
        "\n",
        "2 for non cancerous, 4 for cancerous\n",
        "\n",
        "0 for non cancerous, 1 for cancerous (when normalized)"
      ]
    },
    {
      "cell_type": "code",
      "metadata": {
        "id": "VUe0MpduXwxv",
        "colab_type": "code",
        "colab": {}
      },
      "source": [
        "# read in the data\n",
        "url = 'https://github.com/vt-ai-ml/fall2019-meetings/raw/master/data/cancer.csv'\n",
        "data = pd.read_csv(url)\n",
        "\n",
        "data.drop(['Sample code'],axis = 1, inplace = True) # drop the sample code column\n",
        "data.head()"
      ],
      "execution_count": 0,
      "outputs": []
    },
    {
      "cell_type": "markdown",
      "metadata": {
        "id": "H0mezSyNXwxy",
        "colab_type": "text"
      },
      "source": [
        "### Preprocessing\n",
        "\n",
        "Preprocessing is a crucial step in machine learning. Sometimes raw data is unnatural to learn from. \n",
        "\n",
        "* Impute: when data is missing\n",
        "* Normalize: when data has varying scales\n",
        "    * really important when using neural networks"
      ]
    },
    {
      "cell_type": "code",
      "metadata": {
        "id": "bM16phVJXwxz",
        "colab_type": "code",
        "colab": {}
      },
      "source": [
        "from sklearn import preprocessing   # preprocessing data\n",
        "\n",
        "data.replace('?',0, inplace=True)   # replace '?' with 0\n",
        "\n",
        "# Convert the DataFrame object into NumPy array otherwise you will not be able to impute\n",
        "values = data.values\n",
        "\n",
        "# replace '?' values with mean\n",
        "imputer = preprocessing.Imputer()\n",
        "imputedData = imputer.fit_transform(values)\n",
        "\n",
        "# normalize our data so our values are now between [0, 1]\n",
        "scaler = preprocessing.MinMaxScaler(feature_range=(0, 1))\n",
        "normalizedData = scaler.fit_transform(imputedData)\n",
        "\n",
        "normalizedData"
      ],
      "execution_count": 0,
      "outputs": []
    },
    {
      "cell_type": "code",
      "metadata": {
        "id": "DmerXgdLXwx1",
        "colab_type": "code",
        "colab": {}
      },
      "source": [
        "from sklearn import model_selection    # for cross validation\n",
        "\n",
        "# Get our input values (X) and output values (Y)\n",
        "X = normalizedData[:,0:9]\n",
        "Y = normalizedData[:,9]\n",
        "\n",
        "# split data into training data & testing data\n",
        "x_train, x_test, y_train, y_test = model_selection.train_test_split(X, Y, test_size=0.25, random_state=0)\n",
        "\n",
        "kfold = model_selection.KFold(n_splits=10, random_state=0)"
      ],
      "execution_count": 0,
      "outputs": []
    },
    {
      "cell_type": "markdown",
      "metadata": {
        "id": "7Jqwl9SDXwx3",
        "colab_type": "text"
      },
      "source": [
        "### Voting Classifier\n",
        "\n",
        "Each model gets a vote -> the majority vote wins"
      ]
    },
    {
      "cell_type": "code",
      "metadata": {
        "id": "NS_M7hlaXwx3",
        "colab_type": "code",
        "colab": {}
      },
      "source": [
        "from sklearn import tree            # decision trees\n",
        "from sklearn import neighbors       # k nearest neighbors\n",
        "from sklearn import linear_model    # logistic regression\n",
        "from sklearn import ensemble        # ensemble methods\n",
        "\n",
        "model1 = tree.DecisionTreeClassifier()\n",
        "model2 = neighbors.KNeighborsClassifier()\n",
        "model3 = linear_model.LogisticRegression(solver = 'lbfgs')\n",
        "\n",
        "max_vote_model = ensemble.VotingClassifier(estimators=[('dt', model1), ('knn', model2), ('lr', model3)], voting='hard')\n",
        "max_vote_model.fit(x_train, y_train)\n",
        "\n",
        "vote_score = model_selection.cross_val_score(max_vote_model, X, Y, cv=kfold).mean()\n",
        "max_vote_model.predict(x_test)"
      ],
      "execution_count": 0,
      "outputs": []
    },
    {
      "cell_type": "markdown",
      "metadata": {
        "id": "v_orL976Xwx5",
        "colab_type": "text"
      },
      "source": [
        "### Bagging\n",
        "\n",
        "Train several base models on different parts of the data"
      ]
    },
    {
      "cell_type": "code",
      "metadata": {
        "id": "GAG7SyfUXwx6",
        "colab_type": "code",
        "colab": {}
      },
      "source": [
        "from sklearn.svm import SVC\n",
        "# bagging with KNN models\n",
        "knn = neighbors.KNeighborsClassifier(9)   # bagging is generally good when k is low\n",
        "bag = ensemble.BaggingClassifier(base_estimator=knn, n_estimators=3, random_state=0)\n",
        "\n",
        "bag_score = model_selection.cross_val_score(bag, X, Y, cv=kfold).mean()\n",
        "\n",
        "# Random Forests\n",
        "rf = ensemble.RandomForestClassifier(n_estimators=9, random_state=0)\n",
        "\n",
        "rf_score = model_selection.cross_val_score(rf, X, Y, cv=kfold).mean()"
      ],
      "execution_count": 0,
      "outputs": []
    },
    {
      "cell_type": "markdown",
      "metadata": {
        "id": "D9U4DpnOXwx8",
        "colab_type": "text"
      },
      "source": [
        "### Boosting\n",
        "\n",
        "Train a model -> Tell next model to improve predictions for misclassified data"
      ]
    },
    {
      "cell_type": "code",
      "metadata": {
        "id": "loFm4oz2Xwx8",
        "colab_type": "code",
        "colab": {}
      },
      "source": [
        "# AdaBoost\n",
        "boost = ensemble.AdaBoostClassifier(random_state=0)\n",
        "\n",
        "boost_score = model_selection.cross_val_score(boost, X, Y, cv=kfold).mean()"
      ],
      "execution_count": 0,
      "outputs": []
    },
    {
      "cell_type": "markdown",
      "metadata": {
        "id": "tq3FlrvkXwx-",
        "colab_type": "text"
      },
      "source": [
        "### Results\n",
        "\n",
        "Random Forests is a really good model, and more advanced models use Random Forests as a basis. In fact, tree base models are generally better than deep learning models when it comes to business data."
      ]
    },
    {
      "cell_type": "code",
      "metadata": {
        "id": "rESg_x58Xwx-",
        "colab_type": "code",
        "colab": {}
      },
      "source": [
        "print('Max Vote Classifier CV Score:  %f' % vote_score)\n",
        "print('Bagging Classifier CV Score:   %f' % bag_score)\n",
        "print('Random Forests CV Score:       %f' % rf_score)\n",
        "print('AdaBoost Classifier CV Score:  %f' % boost_score)"
      ],
      "execution_count": 0,
      "outputs": []
    },
    {
      "cell_type": "code",
      "metadata": {
        "id": "jNJPf1XPYCKf",
        "colab_type": "code",
        "colab": {}
      },
      "source": [
        ""
      ],
      "execution_count": 0,
      "outputs": []
    }
  ]
}