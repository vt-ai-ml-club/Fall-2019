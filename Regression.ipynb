{
  "nbformat": 4,
  "nbformat_minor": 0,
  "metadata": {
    "kernelspec": {
      "display_name": "Python 3",
      "language": "python",
      "name": "python3"
    },
    "language_info": {
      "codemirror_mode": {
        "name": "ipython",
        "version": 3
      },
      "file_extension": ".py",
      "mimetype": "text/x-python",
      "name": "python",
      "nbconvert_exporter": "python",
      "pygments_lexer": "ipython3",
      "version": "3.7.3"
    },
    "colab": {
      "name": "Regression.ipynb",
      "provenance": [],
      "include_colab_link": true
    }
  },
  "cells": [
    {
      "cell_type": "markdown",
      "metadata": {
        "id": "view-in-github",
        "colab_type": "text"
      },
      "source": [
        "<a href=\"https://colab.research.google.com/github/vt-ai-ml/fall2019-meetings/blob/master/Regression.ipynb\" target=\"_parent\"><img src=\"https://colab.research.google.com/assets/colab-badge.svg\" alt=\"Open In Colab\"/></a>"
      ]
    },
    {
      "cell_type": "code",
      "metadata": {
        "id": "CNZ538Hl7_Tf",
        "colab_type": "code",
        "colab": {}
      },
      "source": [
        "import pandas as pd                 # data frame\n",
        "import numpy as np                  # matrix manipulation\n",
        "import matplotlib.pyplot as plt     # plotting\n",
        "from sklearn import linear_model    # linear & logistic regression\n",
        "from sklearn import preprocessing   # polynomial features for polynomial regression\n",
        "from sklearn import model_selection # splitting data into train and test data"
      ],
      "execution_count": 0,
      "outputs": []
    },
    {
      "cell_type": "markdown",
      "metadata": {
        "id": "3fb5WTO47_Ti",
        "colab_type": "text"
      },
      "source": [
        "### Least Squares\n",
        "We'll use method of least squares to model Google's stock price over the span of 20 days. \n",
        "\n",
        "**NOTE**: We're fitting our least squares model to less than 20 data points, thus we're probably unable to predict the price of Google's stock in 2019, but we may be able to predict the price in March of 2016."
      ]
    },
    {
      "cell_type": "code",
      "metadata": {
        "id": "I6R8305P7_Ti",
        "colab_type": "code",
        "colab": {}
      },
      "source": [
        "# read in the data\n",
        "url = 'https://github.com/vt-ai-ml/fall2019-meetings/raw/master/data/google_stock.csv'\n",
        "df = pd.read_csv(url)\n",
        "\n",
        "df[0:3]"
      ],
      "execution_count": 0,
      "outputs": []
    },
    {
      "cell_type": "code",
      "metadata": {
        "id": "3SEV8i-57_Tl",
        "colab_type": "code",
        "colab": {}
      },
      "source": [
        "plt.figure(figsize=(8,4))\n",
        "plt.ylabel('Stock Price (Low)')\n",
        "plt.xlabel('Days (Day 0 = Feb 1, 2016)')\n",
        "plt.title(\"Google stock price in Feb 2016\")\n",
        "plt.plot(df['Date'], df['Price'], color='blue', marker='o')"
      ],
      "execution_count": 0,
      "outputs": []
    },
    {
      "cell_type": "markdown",
      "metadata": {
        "id": "WJlUl0C-7_Tn",
        "colab_type": "text"
      },
      "source": [
        "### Linear Regression\n",
        "$ y = mx + b $  \n",
        "$ y = \\beta_{0} + \\beta_{1}x$"
      ]
    },
    {
      "cell_type": "code",
      "metadata": {
        "id": "Bgn-xohO7_To",
        "colab_type": "code",
        "colab": {}
      },
      "source": [
        "dates = df['Date'].values.reshape(-1,1)   # reshape(-1,1) so we can use in lm.fit()\n",
        "prices = df['Price'].values.reshape(-1,1)\n",
        "\n",
        "lm = linear_model.LinearRegression()\n",
        "lm.fit(dates, prices)\n",
        "predictions = lm.predict(dates)\n",
        "\n",
        "today = lm.predict(np.reshape([1300], (1,-1)))  # let's predict the price 1300 days from Feb 1 2016\n",
        "march = lm.predict(np.reshape([30], (1,-1)))    # let's predict the price in March\n",
        "print('Today\\'s prediction:', today, 'actual:', 1300)\n",
        "print('Mar 1 2016 prediction:', march, 'actual:', 700)"
      ],
      "execution_count": 0,
      "outputs": []
    },
    {
      "cell_type": "code",
      "metadata": {
        "id": "QUWt1qRC7_Tq",
        "colab_type": "code",
        "colab": {}
      },
      "source": [
        "plt.figure(figsize=(8,4))\n",
        "plt.plot(df['Date'], predictions, color='red')\n",
        "plt.plot(df['Date'], df['Price'], color='blue', marker='o')"
      ],
      "execution_count": 0,
      "outputs": []
    },
    {
      "cell_type": "markdown",
      "metadata": {
        "id": "nCC_3drJ7_Ts",
        "colab_type": "text"
      },
      "source": [
        "### Polynomial Regression (degree = 2)\n",
        "$ y = \\beta_{0} + \\beta_{1}x + \\beta_{2}x^2$"
      ]
    },
    {
      "cell_type": "code",
      "metadata": {
        "id": "imVE4jwS7_Tt",
        "colab_type": "code",
        "colab": {}
      },
      "source": [
        "# add an x^2 to our input\n",
        "poly = preprocessing.PolynomialFeatures(2)\n",
        "poly_dates = poly.fit_transform(dates)\n",
        "\n",
        "lm.fit(poly_dates,prices) \n",
        "predictions2 = lm.predict(poly_dates)\n",
        "\n",
        "today = lm.predict(poly.fit_transform(np.reshape([1300], (1,-1))))\n",
        "march = lm.predict(poly.fit_transform(np.reshape([30], (1,-1))))\n",
        "print('Today\\'s prediction:', today, 'actual:', 1300)\n",
        "print('Mar 1 2016 prediction:', march, 'actual:', 700)"
      ],
      "execution_count": 0,
      "outputs": []
    },
    {
      "cell_type": "code",
      "metadata": {
        "id": "N6ezKo6_7_Tw",
        "colab_type": "code",
        "colab": {}
      },
      "source": [
        "plt.figure(figsize=(8,4))\n",
        "plt.plot(df['Date'], predictions2, color='red')\n",
        "plt.plot(df['Date'], df['Price'], color='blue', marker='o')"
      ],
      "execution_count": 0,
      "outputs": []
    },
    {
      "cell_type": "markdown",
      "metadata": {
        "id": "TBcua2sR7_Ty",
        "colab_type": "text"
      },
      "source": [
        "### Polynomial Regression (degree = 3)\n",
        "$ y = \\beta_{0} + \\beta_{1}x + \\beta_{2}x^2 + \\beta_{3}x^3$"
      ]
    },
    {
      "cell_type": "code",
      "metadata": {
        "id": "61bNNOVR7_Ty",
        "colab_type": "code",
        "colab": {}
      },
      "source": [
        "poly = preprocessing.PolynomialFeatures(3)\n",
        "poly_dates = poly.fit_transform(dates)\n",
        "\n",
        "lm.fit(poly_dates,prices) \n",
        "predictions3 = lm.predict(poly_dates)\n",
        "\n",
        "today = lm.predict(poly.fit_transform(np.reshape([1300], (1,-1))))\n",
        "march = lm.predict(poly.fit_transform(np.reshape([30], (1,-1))))\n",
        "print('Today\\'s prediction:', today, 'actual:', 1300)\n",
        "print('Mar 1 2016 prediction:', march, 'actual:', 700)"
      ],
      "execution_count": 0,
      "outputs": []
    },
    {
      "cell_type": "code",
      "metadata": {
        "id": "yFZgqRlD7_T0",
        "colab_type": "code",
        "colab": {}
      },
      "source": [
        "plt.figure(figsize=(8,4))\n",
        "plt.plot(df['Date'], predictions3, color='red')\n",
        "plt.plot(df['Date'], df['Price'], color='blue', marker='o')"
      ],
      "execution_count": 0,
      "outputs": []
    },
    {
      "cell_type": "markdown",
      "metadata": {
        "id": "WFNxN7Qx7_T2",
        "colab_type": "text"
      },
      "source": [
        "---\n",
        "## Logistic Regression\n",
        "\n",
        "<img src=\"https://github.com/vt-ai-ml/fall2019-meetings/raw/master/data/logistic.png\" align=\"right\" style=\"width:350px;height:250px;\">\n",
        "\n",
        "We will be predicting whether someone has heart_disease given their age, gender, cholesterol, and maximum heart rate.\n",
        "\n",
        "$$ y = \n",
        "\\begin{cases}\n",
        "1 & \\text{if }  \\beta_{0} + \\beta_{1}x > 0\\\\\n",
        "0 & \\text{else }\n",
        "\\end{cases} $$\n",
        "\n",
        "dataset: https://www.kaggle.com/ronitf/heart-disease-uci\n",
        "\n",
        "* male = 1, female = 0\n",
        "* target = 0 (absence of heart disease)"
      ]
    },
    {
      "cell_type": "code",
      "metadata": {
        "id": "WIyj6r567_T2",
        "colab_type": "code",
        "colab": {}
      },
      "source": [
        "# read in the data\n",
        "url = 'https://github.com/vt-ai-ml/fall2019-meetings/raw/master/data/heart_disease.csv'\n",
        "heart_df = pd.read_csv(url)\n",
        "\n",
        "heart_df[0:3]"
      ],
      "execution_count": 0,
      "outputs": []
    },
    {
      "cell_type": "code",
      "metadata": {
        "id": "S5fGD_Lo7_T4",
        "colab_type": "code",
        "colab": {}
      },
      "source": [
        "x_train, x_test, y_train, y_test = model_selection.train_test_split(heart_df[['age', 'sex', 'cholesterol', 'max_heart_rate']],\n",
        "                                                    heart_df['target'], test_size=0.25, random_state=3)\n",
        "\n",
        "logreg = linear_model.LogisticRegression()\n",
        "logreg.fit(x_train, y_train)\n",
        "heart_prediction = logreg.predict(x_test)"
      ],
      "execution_count": 0,
      "outputs": []
    },
    {
      "cell_type": "code",
      "metadata": {
        "id": "gBrsSCIz7_T6",
        "colab_type": "code",
        "colab": {}
      },
      "source": [
        "plt.figure(figsize=(8,4))\n",
        "plt.scatter(range(0,len(heart_prediction)), abs(heart_prediction - y_test), color='red')\n",
        "plt.title('Let\\' see how many predictions did we get correct')\n",
        "\n",
        "print('score:', logreg.score(x_test, y_test))"
      ],
      "execution_count": 0,
      "outputs": []
    },
    {
      "cell_type": "code",
      "metadata": {
        "id": "zod1mIUX7_T8",
        "colab_type": "code",
        "colab": {}
      },
      "source": [
        "# try it out\n",
        "age, sex, cholesterol, max_heart_rate = 77, 1, 304, 165\n",
        "example = pd.Series([age, sex, cholesterol, max_heart_rate]).values.reshape(1, -1)\n",
        "\n",
        "logreg.predict(example)"
      ],
      "execution_count": 0,
      "outputs": []
    },
    {
      "cell_type": "code",
      "metadata": {
        "id": "Ybv09Hxw8mhQ",
        "colab_type": "code",
        "colab": {}
      },
      "source": [
        ""
      ],
      "execution_count": 0,
      "outputs": []
    }
  ]
}