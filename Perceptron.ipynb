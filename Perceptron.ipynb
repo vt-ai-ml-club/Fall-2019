{
 "cells": [
  {
   "cell_type": "code",
   "execution_count": 1,
   "metadata": {},
   "outputs": [],
   "source": [
    "import pandas as pd                                     # data frame\n",
    "from sklearn.preprocessing   import MinMaxScaler        # normalizing our data\n",
    "from sklearn.impute          import SimpleImputer       # replace NaN values with the column mean\n",
    "from sklearn.model_selection import train_test_split    # splitting our data into training/testing\n",
    "from sklearn.linear_model    import Perceptron          # Perceptron"
   ]
  },
  {
   "cell_type": "markdown",
   "metadata": {},
   "source": [
    "1. Grab our data from the internet"
   ]
  },
  {
   "cell_type": "code",
   "execution_count": 2,
   "metadata": {},
   "outputs": [
    {
     "data": {
      "text/html": [
       "<div>\n",
       "<style scoped>\n",
       "    .dataframe tbody tr th:only-of-type {\n",
       "        vertical-align: middle;\n",
       "    }\n",
       "\n",
       "    .dataframe tbody tr th {\n",
       "        vertical-align: top;\n",
       "    }\n",
       "\n",
       "    .dataframe thead th {\n",
       "        text-align: right;\n",
       "    }\n",
       "</style>\n",
       "<table border=\"1\" class=\"dataframe\">\n",
       "  <thead>\n",
       "    <tr style=\"text-align: right;\">\n",
       "      <th></th>\n",
       "      <th>Clump Thickness</th>\n",
       "      <th>Uniformity of Cell Size</th>\n",
       "      <th>Uniformity of Cell Shape</th>\n",
       "      <th>Marginal Adhesion</th>\n",
       "      <th>Single Epithelial</th>\n",
       "      <th>Bare Nuclei</th>\n",
       "      <th>Bland Chromatin</th>\n",
       "      <th>Normal Nucleoli</th>\n",
       "      <th>Mitoses</th>\n",
       "      <th>Class</th>\n",
       "    </tr>\n",
       "  </thead>\n",
       "  <tbody>\n",
       "    <tr>\n",
       "      <th>0</th>\n",
       "      <td>5</td>\n",
       "      <td>1</td>\n",
       "      <td>1</td>\n",
       "      <td>1</td>\n",
       "      <td>2</td>\n",
       "      <td>1</td>\n",
       "      <td>3</td>\n",
       "      <td>1</td>\n",
       "      <td>1</td>\n",
       "      <td>2</td>\n",
       "    </tr>\n",
       "    <tr>\n",
       "      <th>1</th>\n",
       "      <td>5</td>\n",
       "      <td>4</td>\n",
       "      <td>4</td>\n",
       "      <td>5</td>\n",
       "      <td>7</td>\n",
       "      <td>10</td>\n",
       "      <td>3</td>\n",
       "      <td>2</td>\n",
       "      <td>1</td>\n",
       "      <td>2</td>\n",
       "    </tr>\n",
       "    <tr>\n",
       "      <th>2</th>\n",
       "      <td>3</td>\n",
       "      <td>1</td>\n",
       "      <td>1</td>\n",
       "      <td>1</td>\n",
       "      <td>2</td>\n",
       "      <td>2</td>\n",
       "      <td>3</td>\n",
       "      <td>1</td>\n",
       "      <td>1</td>\n",
       "      <td>2</td>\n",
       "    </tr>\n",
       "    <tr>\n",
       "      <th>3</th>\n",
       "      <td>6</td>\n",
       "      <td>8</td>\n",
       "      <td>8</td>\n",
       "      <td>1</td>\n",
       "      <td>3</td>\n",
       "      <td>4</td>\n",
       "      <td>3</td>\n",
       "      <td>7</td>\n",
       "      <td>1</td>\n",
       "      <td>2</td>\n",
       "    </tr>\n",
       "    <tr>\n",
       "      <th>4</th>\n",
       "      <td>4</td>\n",
       "      <td>1</td>\n",
       "      <td>1</td>\n",
       "      <td>3</td>\n",
       "      <td>2</td>\n",
       "      <td>1</td>\n",
       "      <td>3</td>\n",
       "      <td>1</td>\n",
       "      <td>1</td>\n",
       "      <td>2</td>\n",
       "    </tr>\n",
       "  </tbody>\n",
       "</table>\n",
       "</div>"
      ],
      "text/plain": [
       "   Clump Thickness  Uniformity of Cell Size  Uniformity of Cell Shape  \\\n",
       "0                5                        1                         1   \n",
       "1                5                        4                         4   \n",
       "2                3                        1                         1   \n",
       "3                6                        8                         8   \n",
       "4                4                        1                         1   \n",
       "\n",
       "   Marginal Adhesion  Single Epithelial Bare Nuclei  Bland Chromatin  \\\n",
       "0                  1                  2           1                3   \n",
       "1                  5                  7          10                3   \n",
       "2                  1                  2           2                3   \n",
       "3                  1                  3           4                3   \n",
       "4                  3                  2           1                3   \n",
       "\n",
       "   Normal Nucleoli  Mitoses  Class  \n",
       "0                1        1      2  \n",
       "1                2        1      2  \n",
       "2                1        1      2  \n",
       "3                7        1      2  \n",
       "4                1        1      2  "
      ]
     },
     "execution_count": 2,
     "metadata": {},
     "output_type": "execute_result"
    }
   ],
   "source": [
    "url = 'https://github.com/vt-ai-ml/fall2019-meetings/raw/master/data/cancer.csv'\n",
    "data = pd.read_csv(url)\n",
    "\n",
    "data.drop(['Sample code'],axis = 1, inplace = True)    # drop the 'Sample code' column\n",
    "data.head()"
   ]
  },
  {
   "cell_type": "markdown",
   "metadata": {},
   "source": [
    "2. Do some preprocessing\n",
    "    * replacing bad values (eg. '?')\n",
    "    * replacing missing values with the mean\n",
    "    * scaling our data to [0, 1]"
   ]
  },
  {
   "cell_type": "code",
   "execution_count": 3,
   "metadata": {},
   "outputs": [
    {
     "name": "stdout",
     "output_type": "stream",
     "text": [
      "Clump Thickness             False\n",
      "Uniformity of Cell Size     False\n",
      "Uniformity of Cell Shape    False\n",
      "Marginal Adhesion           False\n",
      "Single Epithelial           False\n",
      "Bare Nuclei                  True\n",
      "Bland Chromatin             False\n",
      "Normal Nucleoli             False\n",
      "Mitoses                     False\n",
      "Class                       False\n",
      "dtype: bool\n"
     ]
    }
   ],
   "source": [
    "print(data.isin(['?']).any())\n",
    "data.replace('?', 0, inplace=True)   # replace '?' with 0"
   ]
  },
  {
   "cell_type": "code",
   "execution_count": 4,
   "metadata": {},
   "outputs": [
    {
     "name": "stdout",
     "output_type": "stream",
     "text": [
      "[0.44444444 0.         0.         0.         0.11111111 0.1\n",
      " 0.22222222 0.         0.         0.        ]\n"
     ]
    }
   ],
   "source": [
    "# Convert the DataFrame object into NumPy array otherwise you will not be able to impute the mean\n",
    "values = data.values\n",
    "\n",
    "# replace missing values with mean\n",
    "imputer = SimpleImputer()\n",
    "imputedData = imputer.fit_transform(values)\n",
    "\n",
    "# normalize our data so our values are now between [0, 1]\n",
    "scaler = MinMaxScaler(feature_range=(0, 1))\n",
    "normalizedData = scaler.fit_transform(imputedData)\n",
    "\n",
    "print(normalizedData[0])"
   ]
  },
  {
   "cell_type": "markdown",
   "metadata": {},
   "source": [
    "3. Prepare our data for training and save data for testing"
   ]
  },
  {
   "cell_type": "code",
   "execution_count": 5,
   "metadata": {},
   "outputs": [
    {
     "name": "stdout",
     "output_type": "stream",
     "text": [
      "# of training points: 5346 \n",
      "# of testing points: 945\n"
     ]
    }
   ],
   "source": [
    "# Get our input values (X) and output values (Y)\n",
    "X = normalizedData[:,0:9]\n",
    "Y = normalizedData[:,9]\n",
    "\n",
    "# split data into training data & testing data\n",
    "x_train, x_test, y_train, y_test = train_test_split(X, Y, test_size=0.15, random_state=0)\n",
    "print(\"# of training points:\", x_train.size, \"\\n# of testing points:\", x_test.size)"
   ]
  },
  {
   "cell_type": "markdown",
   "metadata": {},
   "source": [
    "4. Create our Perceptron model and test it's accuracy"
   ]
  },
  {
   "cell_type": "code",
   "execution_count": 6,
   "metadata": {},
   "outputs": [
    {
     "name": "stdout",
     "output_type": "stream",
     "text": [
      "0.9619047619047619\n"
     ]
    }
   ],
   "source": [
    "perceptron = Perceptron()\n",
    "perceptron.fit(x_train, y_train)\n",
    "print(perceptron.score(x_test, y_test))"
   ]
  },
  {
   "attachments": {},
   "cell_type": "markdown",
   "metadata": {},
   "source": [
    "Let's compare to other models\n",
    "* Decision Tree\n",
    "* Logistic Regression\n",
    "* K Nearest Neighbor"
   ]
  },
  {
   "cell_type": "code",
   "execution_count": 7,
   "metadata": {},
   "outputs": [
    {
     "name": "stdout",
     "output_type": "stream",
     "text": [
      "Decision Tree score:\t   0.9523809523809523\n",
      "Logistic Regression score: 0.9714285714285714\n",
      "K Nearest Neighbor score:  0.9619047619047619\n"
     ]
    }
   ],
   "source": [
    "from sklearn.tree         import DecisionTreeClassifier    # decision trees\n",
    "from sklearn.linear_model import LogisticRegression        # logistic regression\n",
    "from sklearn.neighbors    import KNeighborsClassifier      # logistic regression\n",
    "\n",
    "tree    = DecisionTreeClassifier(random_state = 0)\n",
    "log_reg = LogisticRegression(solver = 'newton-cg')\n",
    "knn     = KNeighborsClassifier(n_neighbors = 21)\n",
    "\n",
    "tree.fit(x_train, y_train)\n",
    "log_reg.fit(x_train, y_train)\n",
    "knn.fit(x_train, y_train)\n",
    "\n",
    "print('Decision Tree score:\\t  ', tree.score(x_test, y_test))\n",
    "print('Logistic Regression score:', log_reg.score(x_test, y_test))\n",
    "print('K Nearest Neighbor score: ', knn.score(x_test, y_test))"
   ]
  }
 ],
 "metadata": {
  "kernelspec": {
   "display_name": "Python 3",
   "language": "python",
   "name": "python3"
  },
  "language_info": {
   "codemirror_mode": {
    "name": "ipython",
    "version": 3
   },
   "file_extension": ".py",
   "mimetype": "text/x-python",
   "name": "python",
   "nbconvert_exporter": "python",
   "pygments_lexer": "ipython3",
   "version": "3.7.3"
  }
 },
 "nbformat": 4,
 "nbformat_minor": 2
}
